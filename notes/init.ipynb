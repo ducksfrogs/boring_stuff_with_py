{
 "cells": [
  {
   "cell_type": "code",
   "execution_count": 1,
   "id": "73b54fa9-f831-4c7c-96c4-afc5b16161c3",
   "metadata": {},
   "outputs": [
    {
     "data": {
      "text/plain": [
       "'AlicdBo'"
      ]
     },
     "execution_count": 1,
     "metadata": {},
     "output_type": "execute_result"
    }
   ],
   "source": [
    "\"Alicd\"+\"Bo\""
   ]
  },
  {
   "cell_type": "code",
   "execution_count": 2,
   "id": "8e5920d4-2e04-405b-a4ac-53ed86ab8cc1",
   "metadata": {},
   "outputs": [
    {
     "name": "stdin",
     "output_type": "stream",
     "text": [
      "hhh dd\n"
     ]
    }
   ],
   "source": [
    "my_name = input(\"hhh\")"
   ]
  },
  {
   "cell_type": "code",
   "execution_count": null,
   "id": "3ee82bdd-1249-4af8-a206-d1f5fb1991fb",
   "metadata": {},
   "outputs": [],
   "source": []
  }
 ],
 "metadata": {
  "kernelspec": {
   "display_name": "Python 3 (ipykernel)",
   "language": "python",
   "name": "python3"
  },
  "language_info": {
   "codemirror_mode": {
    "name": "ipython",
    "version": 3
   },
   "file_extension": ".py",
   "mimetype": "text/x-python",
   "name": "python",
   "nbconvert_exporter": "python",
   "pygments_lexer": "ipython3",
   "version": "3.9.7"
  }
 },
 "nbformat": 4,
 "nbformat_minor": 5
}
